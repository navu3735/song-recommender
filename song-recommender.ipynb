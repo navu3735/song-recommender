{
 "cells": [
  {
   "cell_type": "code",
   "execution_count": 40,
   "id": "644fd986",
   "metadata": {},
   "outputs": [],
   "source": [
    "#Import libraries \n",
    "import pandas as pd \n",
    "import numpy as np \n"
   ]
  },
  {
   "cell_type": "code",
   "execution_count": 41,
   "id": "0ffd7ee2",
   "metadata": {},
   "outputs": [
    {
     "data": {
      "text/html": [
       "<div>\n",
       "<style scoped>\n",
       "    .dataframe tbody tr th:only-of-type {\n",
       "        vertical-align: middle;\n",
       "    }\n",
       "\n",
       "    .dataframe tbody tr th {\n",
       "        vertical-align: top;\n",
       "    }\n",
       "\n",
       "    .dataframe thead th {\n",
       "        text-align: right;\n",
       "    }\n",
       "</style>\n",
       "<table border=\"1\" class=\"dataframe\">\n",
       "  <thead>\n",
       "    <tr style=\"text-align: right;\">\n",
       "      <th></th>\n",
       "      <th>name</th>\n",
       "      <th>artist</th>\n",
       "      <th>spotify_id</th>\n",
       "      <th>preview</th>\n",
       "      <th>img</th>\n",
       "      <th>danceability</th>\n",
       "      <th>energy</th>\n",
       "      <th>loudness</th>\n",
       "      <th>speechiness</th>\n",
       "      <th>acousticness</th>\n",
       "      <th>instrumentalness</th>\n",
       "      <th>liveness</th>\n",
       "      <th>valence</th>\n",
       "      <th>acousticness_artist</th>\n",
       "      <th>danceability_artist</th>\n",
       "      <th>energy_artist</th>\n",
       "      <th>instrumentalness_artist</th>\n",
       "      <th>liveness_artist</th>\n",
       "      <th>speechiness_artist</th>\n",
       "      <th>valence_artist</th>\n",
       "    </tr>\n",
       "  </thead>\n",
       "  <tbody>\n",
       "    <tr>\n",
       "      <th>0</th>\n",
       "      <td>Mood (feat. iann dior)</td>\n",
       "      <td>24kGoldn</td>\n",
       "      <td>3tjFYV6RSFtuktYl3ZtYcq</td>\n",
       "      <td>https://p.scdn.co/mp3-preview/45cb08fdb67744ab...</td>\n",
       "      <td>https://i.scdn.co/image/ab67616d0000b273ff8c98...</td>\n",
       "      <td>0.7</td>\n",
       "      <td>0.722</td>\n",
       "      <td>-3.558</td>\n",
       "      <td>0.0369</td>\n",
       "      <td>0.221</td>\n",
       "      <td>0.0</td>\n",
       "      <td>0.272</td>\n",
       "      <td>0.756</td>\n",
       "      <td>0.118269</td>\n",
       "      <td>0.731588</td>\n",
       "      <td>0.681235</td>\n",
       "      <td>0.000002</td>\n",
       "      <td>0.16</td>\n",
       "      <td>0.123765</td>\n",
       "      <td>0.566824</td>\n",
       "    </tr>\n",
       "  </tbody>\n",
       "</table>\n",
       "</div>"
      ],
      "text/plain": [
       "                     name    artist              spotify_id  \\\n",
       "0  Mood (feat. iann dior)  24kGoldn  3tjFYV6RSFtuktYl3ZtYcq   \n",
       "\n",
       "                                             preview  \\\n",
       "0  https://p.scdn.co/mp3-preview/45cb08fdb67744ab...   \n",
       "\n",
       "                                                 img  danceability  energy  \\\n",
       "0  https://i.scdn.co/image/ab67616d0000b273ff8c98...           0.7   0.722   \n",
       "\n",
       "   loudness  speechiness  acousticness  instrumentalness  liveness  valence  \\\n",
       "0    -3.558       0.0369         0.221               0.0     0.272    0.756   \n",
       "\n",
       "   acousticness_artist  danceability_artist  energy_artist  \\\n",
       "0             0.118269             0.731588       0.681235   \n",
       "\n",
       "   instrumentalness_artist  liveness_artist  speechiness_artist  \\\n",
       "0                 0.000002             0.16            0.123765   \n",
       "\n",
       "   valence_artist  \n",
       "0        0.566824  "
      ]
     },
     "execution_count": 41,
     "metadata": {},
     "output_type": "execute_result"
    }
   ],
   "source": [
    "#Read csv files and display\n",
    "songs = pd.read_csv('Music.csv')\n",
    "songs.head(1)"
   ]
  },
  {
   "cell_type": "code",
   "execution_count": 42,
   "id": "a4ea29f8",
   "metadata": {},
   "outputs": [
    {
     "data": {
      "text/plain": [
       "0        3tjFYV6RSFtuktYl3ZtYcq\n",
       "1        0VjIjW4GlUZAMYd2vXMi3b\n",
       "2        0t1kP63rueHleOhQkYSXFY\n",
       "3        7ytR5pFWmSjzHJIeQkgog4\n",
       "4        0PvFJmanyNQMseIFrU708S\n",
       "                  ...          \n",
       "65790    45fq6kIQtooot7WVRsXAum\n",
       "65791    0G6Hw9ya7p6EbmA6VEQfmD\n",
       "65792    39rkLB2TEENIvhwAlRC5ae\n",
       "65793    5LlKdhNsw0fqkiHxU2lNkj\n",
       "65794    3FsrG1TIB79ONER5Fr1cCt\n",
       "Name: spotify_id, Length: 65795, dtype: object"
      ]
     },
     "execution_count": 42,
     "metadata": {},
     "output_type": "execute_result"
    }
   ],
   "source": [
    "songs['spotify_id']"
   ]
  },
  {
   "cell_type": "code",
   "execution_count": 43,
   "id": "b44cbc3b",
   "metadata": {},
   "outputs": [
    {
     "data": {
      "text/html": [
       "<div>\n",
       "<style scoped>\n",
       "    .dataframe tbody tr th:only-of-type {\n",
       "        vertical-align: middle;\n",
       "    }\n",
       "\n",
       "    .dataframe tbody tr th {\n",
       "        vertical-align: top;\n",
       "    }\n",
       "\n",
       "    .dataframe thead th {\n",
       "        text-align: right;\n",
       "    }\n",
       "</style>\n",
       "<table border=\"1\" class=\"dataframe\">\n",
       "  <thead>\n",
       "    <tr style=\"text-align: right;\">\n",
       "      <th></th>\n",
       "      <th>name</th>\n",
       "      <th>artist</th>\n",
       "      <th>spotify_id</th>\n",
       "      <th>danceability</th>\n",
       "      <th>energy</th>\n",
       "      <th>valence</th>\n",
       "      <th>acousticness</th>\n",
       "      <th>instrumentalness</th>\n",
       "      <th>loudness</th>\n",
       "    </tr>\n",
       "  </thead>\n",
       "  <tbody>\n",
       "    <tr>\n",
       "      <th>0</th>\n",
       "      <td>Mood (feat. iann dior)</td>\n",
       "      <td>24kGoldn</td>\n",
       "      <td>3tjFYV6RSFtuktYl3ZtYcq</td>\n",
       "      <td>0.7</td>\n",
       "      <td>0.722</td>\n",
       "      <td>0.756</td>\n",
       "      <td>0.221</td>\n",
       "      <td>0.0</td>\n",
       "      <td>-3.558</td>\n",
       "    </tr>\n",
       "  </tbody>\n",
       "</table>\n",
       "</div>"
      ],
      "text/plain": [
       "                     name    artist              spotify_id  danceability  \\\n",
       "0  Mood (feat. iann dior)  24kGoldn  3tjFYV6RSFtuktYl3ZtYcq           0.7   \n",
       "\n",
       "   energy  valence  acousticness  instrumentalness  loudness  \n",
       "0   0.722    0.756         0.221               0.0    -3.558  "
      ]
     },
     "execution_count": 43,
     "metadata": {},
     "output_type": "execute_result"
    }
   ],
   "source": [
    "#Important metrics for recommendation \n",
    "#Danceability \n",
    "#Energy \n",
    "#Valence \n",
    "#Acousticness\n",
    "#Instrumentalness\n",
    "#Loudness \n",
    "songs = songs[['name', 'artist', 'spotify_id', 'danceability', 'energy', 'valence', 'acousticness', 'instrumentalness', 'loudness']]\n",
    "songs.head(1)"
   ]
  },
  {
   "cell_type": "code",
   "execution_count": 44,
   "id": "752d2220",
   "metadata": {},
   "outputs": [],
   "source": [
    "#Drop songs with null values\n",
    "songs.dropna(inplace=True)"
   ]
  },
  {
   "cell_type": "code",
   "execution_count": 45,
   "id": "f850d38f",
   "metadata": {},
   "outputs": [],
   "source": [
    "#Drop duplicate songs \n",
    "songs = songs.drop_duplicates()"
   ]
  },
  {
   "cell_type": "code",
   "execution_count": 46,
   "id": "2b01dd88",
   "metadata": {},
   "outputs": [],
   "source": [
    "#5000 songs and get their similarity\n",
    "from sklearn.metrics.pairwise import cosine_similarity\n",
    "\n",
    "songs_sample = songs.sample(n=5000, random_state=0)\n",
    "features = ['danceability', 'energy', 'valence', 'acousticness', 'instrumentalness', 'loudness']\n",
    "feature_matrix = songs_sample[features].values\n",
    "similarity_matrix = cosine_similarity(feature_matrix)"
   ]
  },
  {
   "cell_type": "code",
   "execution_count": 47,
   "id": "475c6119",
   "metadata": {},
   "outputs": [],
   "source": [
    "def recommend(song):\n",
    "    song_index = songs[songs['name'] == song].index[0]\n",
    "    distances = similarity_matrix[song_index]\n",
    "    songs_list = sorted(list(enumerate(distances)), reverse=True, key=lambda x:x[1])[1:6]\n",
    "    \n",
    "    for i in songs_list:\n",
    "        print(songs_sample.iloc[i[0]]['name'])"
   ]
  },
  {
   "cell_type": "code",
   "execution_count": 48,
   "id": "b71aab79",
   "metadata": {},
   "outputs": [
    {
     "name": "stdout",
     "output_type": "stream",
     "text": [
      "Emborrachame De Amor\n",
      "Procuro Olvidarte\n",
      "Lovesick Blues (with Patsy Cline)\n",
      "Exodus - Live At Rainbow Theatre, London/1977\n",
      "Cumbia de los pajaritos\n"
     ]
    }
   ],
   "source": [
    "recommend('Blinding Lights')"
   ]
  },
  {
   "cell_type": "code",
   "execution_count": null,
   "id": "13c44f0f",
   "metadata": {},
   "outputs": [
    {
     "ename": "AttributeError",
     "evalue": "'numpy.ndarray' object has no attribute 'to_pickle'",
     "output_type": "error",
     "traceback": [
      "\u001b[1;31m---------------------------------------------------------------------------\u001b[0m",
      "\u001b[1;31mAttributeError\u001b[0m                            Traceback (most recent call last)",
      "Cell \u001b[1;32mIn[49], line 4\u001b[0m\n\u001b[0;32m      2\u001b[0m \u001b[38;5;28;01mimport\u001b[39;00m \u001b[38;5;21;01mpickle\u001b[39;00m \n\u001b[0;32m      3\u001b[0m songs\u001b[38;5;241m.\u001b[39mto_pickle(\u001b[38;5;124m'\u001b[39m\u001b[38;5;124msongs.pkl\u001b[39m\u001b[38;5;124m'\u001b[39m)\n\u001b[1;32m----> 4\u001b[0m \u001b[43msimilarity_matrix\u001b[49m\u001b[38;5;241;43m.\u001b[39;49m\u001b[43mto_pickle\u001b[49m(\u001b[38;5;124m'\u001b[39m\u001b[38;5;124msimilarity.pkl\u001b[39m\u001b[38;5;124m'\u001b[39m)\n",
      "\u001b[1;31mAttributeError\u001b[0m: 'numpy.ndarray' object has no attribute 'to_pickle'"
     ]
    }
   ],
   "source": [
    "#Convert to pickle \n",
    "import pickle \n",
    "songs.to_pickle('songs.pkl')\n"
   ]
  }
 ],
 "metadata": {
  "kernelspec": {
   "display_name": "Python 3",
   "language": "python",
   "name": "python3"
  },
  "language_info": {
   "codemirror_mode": {
    "name": "ipython",
    "version": 3
   },
   "file_extension": ".py",
   "mimetype": "text/x-python",
   "name": "python",
   "nbconvert_exporter": "python",
   "pygments_lexer": "ipython3",
   "version": "3.12.4"
  }
 },
 "nbformat": 4,
 "nbformat_minor": 5
}
